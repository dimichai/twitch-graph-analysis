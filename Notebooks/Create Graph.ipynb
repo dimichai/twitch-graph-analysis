{
 "cells": [
  {
   "cell_type": "code",
   "execution_count": 1,
   "metadata": {
    "ExecuteTime": {
     "end_time": "2019-03-11T21:51:48.263780Z",
     "start_time": "2019-03-11T21:51:48.193545Z"
    }
   },
   "outputs": [],
   "source": [
    "from py2neo import Graph"
   ]
  },
  {
   "cell_type": "code",
   "execution_count": 2,
   "metadata": {
    "ExecuteTime": {
     "end_time": "2019-03-11T21:51:49.180433Z",
     "start_time": "2019-03-11T21:51:49.162014Z"
    }
   },
   "outputs": [],
   "source": [
    "graph = Graph(\"bolt://localhost:7687\", password=\"123\")\n",
    "\n",
    "#tx = graph.begin()\n"
   ]
  },
  {
   "cell_type": "markdown",
   "metadata": {},
   "source": [
    "## Setup"
   ]
  },
  {
   "cell_type": "code",
   "execution_count": 202,
   "metadata": {
    "ExecuteTime": {
     "end_time": "2019-03-11T21:50:36.485547Z",
     "start_time": "2019-03-11T21:50:36.443970Z"
    },
    "scrolled": true
   },
   "outputs": [
    {
     "data": {
      "text/plain": [
       "<py2neo.graph.Cursor at 0x1a22aa4748>"
      ]
     },
     "execution_count": 202,
     "metadata": {},
     "output_type": "execute_result"
    }
   ],
   "source": [
    "# Delete All Nodes\n",
    "q = '''\n",
    "MATCH (n)\n",
    "DETACH DELETE n\n",
    "'''\n",
    "graph.run(q)"
   ]
  },
  {
   "cell_type": "code",
   "execution_count": 8,
   "metadata": {
    "ExecuteTime": {
     "end_time": "2019-03-11T21:51:18.909308Z",
     "start_time": "2019-03-11T21:50:59.718015Z"
    },
    "scrolled": true
   },
   "outputs": [
    {
     "ename": "KeyboardInterrupt",
     "evalue": "",
     "output_type": "error",
     "traceback": [
      "\u001b[0;31m---------------------------------------------------------------------------\u001b[0m",
      "\u001b[0;31mKeyboardInterrupt\u001b[0m                         Traceback (most recent call last)",
      "\u001b[0;32m<ipython-input-8-bf768b850b26>\u001b[0m in \u001b[0;36m<module>\u001b[0;34m\u001b[0m\n\u001b[1;32m      3\u001b[0m '''\n\u001b[1;32m      4\u001b[0m \u001b[0;34m\u001b[0m\u001b[0m\n\u001b[0;32m----> 5\u001b[0;31m \u001b[0mgraph\u001b[0m\u001b[0;34m.\u001b[0m\u001b[0mrun\u001b[0m\u001b[0;34m(\u001b[0m\u001b[0mq\u001b[0m\u001b[0;34m)\u001b[0m\u001b[0;34m\u001b[0m\u001b[0;34m\u001b[0m\u001b[0m\n\u001b[0m",
      "\u001b[0;32m~/miniconda3/envs/bigdata/lib/python3.6/site-packages/py2neo/graph.py\u001b[0m in \u001b[0;36mrun\u001b[0;34m(self, statement, parameters, **kwparameters)\u001b[0m\n\u001b[1;32m    652\u001b[0m         \u001b[0;34m:\u001b[0m\u001b[0;32mreturn\u001b[0m\u001b[0;34m:\u001b[0m\u001b[0;34m\u001b[0m\u001b[0;34m\u001b[0m\u001b[0m\n\u001b[1;32m    653\u001b[0m         \"\"\"\n\u001b[0;32m--> 654\u001b[0;31m         \u001b[0;32mreturn\u001b[0m \u001b[0mself\u001b[0m\u001b[0;34m.\u001b[0m\u001b[0mbegin\u001b[0m\u001b[0;34m(\u001b[0m\u001b[0mautocommit\u001b[0m\u001b[0;34m=\u001b[0m\u001b[0;32mTrue\u001b[0m\u001b[0;34m)\u001b[0m\u001b[0;34m.\u001b[0m\u001b[0mrun\u001b[0m\u001b[0;34m(\u001b[0m\u001b[0mstatement\u001b[0m\u001b[0;34m,\u001b[0m \u001b[0mparameters\u001b[0m\u001b[0;34m,\u001b[0m \u001b[0;34m**\u001b[0m\u001b[0mkwparameters\u001b[0m\u001b[0;34m)\u001b[0m\u001b[0;34m\u001b[0m\u001b[0;34m\u001b[0m\u001b[0m\n\u001b[0m\u001b[1;32m    655\u001b[0m \u001b[0;34m\u001b[0m\u001b[0m\n\u001b[1;32m    656\u001b[0m     \u001b[0;32mdef\u001b[0m \u001b[0mseparate\u001b[0m\u001b[0;34m(\u001b[0m\u001b[0mself\u001b[0m\u001b[0;34m,\u001b[0m \u001b[0msubgraph\u001b[0m\u001b[0;34m)\u001b[0m\u001b[0;34m:\u001b[0m\u001b[0;34m\u001b[0m\u001b[0;34m\u001b[0m\u001b[0m\n",
      "\u001b[0;32m~/miniconda3/envs/bigdata/lib/python3.6/site-packages/py2neo/graph.py\u001b[0m in \u001b[0;36mrun\u001b[0;34m(self, statement, parameters, **kwparameters)\u001b[0m\n\u001b[1;32m    850\u001b[0m         \u001b[0;32melse\u001b[0m\u001b[0;34m:\u001b[0m\u001b[0;34m\u001b[0m\u001b[0;34m\u001b[0m\u001b[0m\n\u001b[1;32m    851\u001b[0m             \u001b[0mresult\u001b[0m \u001b[0;34m=\u001b[0m \u001b[0mself\u001b[0m\u001b[0;34m.\u001b[0m\u001b[0msession\u001b[0m\u001b[0;34m.\u001b[0m\u001b[0mrun\u001b[0m\u001b[0;34m(\u001b[0m\u001b[0mstatement\u001b[0m\u001b[0;34m,\u001b[0m \u001b[0mparameters\u001b[0m\u001b[0;34m,\u001b[0m \u001b[0;34m**\u001b[0m\u001b[0mkwparameters\u001b[0m\u001b[0;34m)\u001b[0m\u001b[0;34m\u001b[0m\u001b[0;34m\u001b[0m\u001b[0m\n\u001b[0;32m--> 852\u001b[0;31m         \u001b[0mresult\u001b[0m \u001b[0;34m=\u001b[0m \u001b[0mResult\u001b[0m\u001b[0;34m(\u001b[0m\u001b[0mself\u001b[0m\u001b[0;34m.\u001b[0m\u001b[0mgraph\u001b[0m\u001b[0;34m,\u001b[0m \u001b[0mentities\u001b[0m\u001b[0;34m,\u001b[0m \u001b[0mresult\u001b[0m\u001b[0;34m)\u001b[0m\u001b[0;34m\u001b[0m\u001b[0;34m\u001b[0m\u001b[0m\n\u001b[0m\u001b[1;32m    853\u001b[0m         \u001b[0mself\u001b[0m\u001b[0;34m.\u001b[0m\u001b[0mresults\u001b[0m\u001b[0;34m.\u001b[0m\u001b[0mappend\u001b[0m\u001b[0;34m(\u001b[0m\u001b[0mresult\u001b[0m\u001b[0;34m)\u001b[0m\u001b[0;34m\u001b[0m\u001b[0;34m\u001b[0m\u001b[0m\n\u001b[1;32m    854\u001b[0m         \u001b[0;32mif\u001b[0m \u001b[0;32mnot\u001b[0m \u001b[0mself\u001b[0m\u001b[0;34m.\u001b[0m\u001b[0mtransaction\u001b[0m\u001b[0;34m:\u001b[0m\u001b[0;34m\u001b[0m\u001b[0;34m\u001b[0m\u001b[0m\n",
      "\u001b[0;32m~/miniconda3/envs/bigdata/lib/python3.6/site-packages/py2neo/graph.py\u001b[0m in \u001b[0;36m__init__\u001b[0;34m(self, graph, entities, result)\u001b[0m\n\u001b[1;32m    741\u001b[0m             \u001b[0mself\u001b[0m\u001b[0;34m.\u001b[0m\u001b[0mresult\u001b[0m\u001b[0;34m.\u001b[0m\u001b[0mvalue_system\u001b[0m\u001b[0;34m.\u001b[0m\u001b[0mentities\u001b[0m \u001b[0;34m=\u001b[0m \u001b[0mentities\u001b[0m\u001b[0;34m\u001b[0m\u001b[0;34m\u001b[0m\u001b[0m\n\u001b[1;32m    742\u001b[0m         \u001b[0;32melif\u001b[0m \u001b[0misinstance\u001b[0m\u001b[0;34m(\u001b[0m\u001b[0mresult\u001b[0m\u001b[0;34m,\u001b[0m \u001b[0mBoltStatementResult\u001b[0m\u001b[0;34m)\u001b[0m\u001b[0;34m:\u001b[0m\u001b[0;34m\u001b[0m\u001b[0;34m\u001b[0m\u001b[0m\n\u001b[0;32m--> 743\u001b[0;31m             \u001b[0mself\u001b[0m\u001b[0;34m.\u001b[0m\u001b[0mresult\u001b[0m\u001b[0;34m.\u001b[0m\u001b[0mvalue_system\u001b[0m \u001b[0;34m=\u001b[0m \u001b[0mPackStreamValueSystem\u001b[0m\u001b[0;34m(\u001b[0m\u001b[0mgraph\u001b[0m\u001b[0;34m,\u001b[0m \u001b[0mresult\u001b[0m\u001b[0;34m.\u001b[0m\u001b[0mkeys\u001b[0m\u001b[0;34m(\u001b[0m\u001b[0;34m)\u001b[0m\u001b[0;34m,\u001b[0m \u001b[0mentities\u001b[0m\u001b[0;34m)\u001b[0m\u001b[0;34m\u001b[0m\u001b[0;34m\u001b[0m\u001b[0m\n\u001b[0m\u001b[1;32m    744\u001b[0m         \u001b[0;32melse\u001b[0m\u001b[0;34m:\u001b[0m\u001b[0;34m\u001b[0m\u001b[0;34m\u001b[0m\u001b[0m\n\u001b[1;32m    745\u001b[0m             \u001b[0;32mraise\u001b[0m \u001b[0mRuntimeError\u001b[0m\u001b[0;34m(\u001b[0m\u001b[0;34m\"Unexpected statement result class %r\"\u001b[0m \u001b[0;34m%\u001b[0m \u001b[0mresult\u001b[0m\u001b[0;34m.\u001b[0m\u001b[0m__class__\u001b[0m\u001b[0;34m.\u001b[0m\u001b[0m__name__\u001b[0m\u001b[0;34m)\u001b[0m\u001b[0;34m\u001b[0m\u001b[0;34m\u001b[0m\u001b[0m\n",
      "\u001b[0;32m~/miniconda3/envs/bigdata/lib/python3.6/site-packages/neo4j/v1/api.py\u001b[0m in \u001b[0;36mkeys\u001b[0;34m(self)\u001b[0m\n\u001b[1;32m    425\u001b[0m         \"\"\"\n\u001b[1;32m    426\u001b[0m         \u001b[0;32mwhile\u001b[0m \u001b[0mself\u001b[0m\u001b[0;34m.\u001b[0m\u001b[0m_keys\u001b[0m \u001b[0;32mis\u001b[0m \u001b[0;32mNone\u001b[0m \u001b[0;32mand\u001b[0m \u001b[0mself\u001b[0m\u001b[0;34m.\u001b[0m\u001b[0monline\u001b[0m\u001b[0;34m(\u001b[0m\u001b[0;34m)\u001b[0m\u001b[0;34m:\u001b[0m\u001b[0;34m\u001b[0m\u001b[0;34m\u001b[0m\u001b[0m\n\u001b[0;32m--> 427\u001b[0;31m             \u001b[0mself\u001b[0m\u001b[0;34m.\u001b[0m\u001b[0mfetch\u001b[0m\u001b[0;34m(\u001b[0m\u001b[0;34m)\u001b[0m\u001b[0;34m\u001b[0m\u001b[0;34m\u001b[0m\u001b[0m\n\u001b[0m\u001b[1;32m    428\u001b[0m         \u001b[0;32mreturn\u001b[0m \u001b[0mself\u001b[0m\u001b[0;34m.\u001b[0m\u001b[0m_keys\u001b[0m\u001b[0;34m\u001b[0m\u001b[0;34m\u001b[0m\u001b[0m\n\u001b[1;32m    429\u001b[0m \u001b[0;34m\u001b[0m\u001b[0m\n",
      "\u001b[0;32m~/miniconda3/envs/bigdata/lib/python3.6/site-packages/neo4j/v1/api.py\u001b[0m in \u001b[0;36mfetch\u001b[0;34m(self)\u001b[0m\n\u001b[1;32m    407\u001b[0m         \"\"\"\n\u001b[1;32m    408\u001b[0m         \u001b[0;32mif\u001b[0m \u001b[0mself\u001b[0m\u001b[0;34m.\u001b[0m\u001b[0monline\u001b[0m\u001b[0;34m(\u001b[0m\u001b[0;34m)\u001b[0m\u001b[0;34m:\u001b[0m\u001b[0;34m\u001b[0m\u001b[0;34m\u001b[0m\u001b[0m\n\u001b[0;32m--> 409\u001b[0;31m             \u001b[0;32mreturn\u001b[0m \u001b[0mself\u001b[0m\u001b[0;34m.\u001b[0m\u001b[0m_session\u001b[0m\u001b[0;34m.\u001b[0m\u001b[0mfetch\u001b[0m\u001b[0;34m(\u001b[0m\u001b[0;34m)\u001b[0m\u001b[0;34m\u001b[0m\u001b[0;34m\u001b[0m\u001b[0m\n\u001b[0m\u001b[1;32m    410\u001b[0m         \u001b[0;32melse\u001b[0m\u001b[0;34m:\u001b[0m\u001b[0;34m\u001b[0m\u001b[0;34m\u001b[0m\u001b[0m\n\u001b[1;32m    411\u001b[0m             \u001b[0;32mreturn\u001b[0m \u001b[0;36m0\u001b[0m\u001b[0;34m\u001b[0m\u001b[0;34m\u001b[0m\u001b[0m\n",
      "\u001b[0;32m~/miniconda3/envs/bigdata/lib/python3.6/site-packages/neo4j/v1/bolt.py\u001b[0m in \u001b[0;36mfetch\u001b[0;34m(self)\u001b[0m\n\u001b[1;32m    149\u001b[0m     \u001b[0;32mdef\u001b[0m \u001b[0mfetch\u001b[0m\u001b[0;34m(\u001b[0m\u001b[0mself\u001b[0m\u001b[0;34m)\u001b[0m\u001b[0;34m:\u001b[0m\u001b[0;34m\u001b[0m\u001b[0;34m\u001b[0m\u001b[0m\n\u001b[1;32m    150\u001b[0m         \u001b[0;32mtry\u001b[0m\u001b[0;34m:\u001b[0m\u001b[0;34m\u001b[0m\u001b[0;34m\u001b[0m\u001b[0m\n\u001b[0;32m--> 151\u001b[0;31m             \u001b[0;32mreturn\u001b[0m \u001b[0mself\u001b[0m\u001b[0;34m.\u001b[0m\u001b[0mconnection\u001b[0m\u001b[0;34m.\u001b[0m\u001b[0mfetch\u001b[0m\u001b[0;34m(\u001b[0m\u001b[0;34m)\u001b[0m\u001b[0;34m\u001b[0m\u001b[0;34m\u001b[0m\u001b[0m\n\u001b[0m\u001b[1;32m    152\u001b[0m         \u001b[0;32mexcept\u001b[0m \u001b[0mServiceUnavailable\u001b[0m \u001b[0;32mas\u001b[0m \u001b[0mcause\u001b[0m\u001b[0;34m:\u001b[0m\u001b[0;34m\u001b[0m\u001b[0;34m\u001b[0m\u001b[0m\n\u001b[1;32m    153\u001b[0m             \u001b[0mself\u001b[0m\u001b[0;34m.\u001b[0m\u001b[0mconnection\u001b[0m\u001b[0;34m.\u001b[0m\u001b[0min_use\u001b[0m \u001b[0;34m=\u001b[0m \u001b[0;32mFalse\u001b[0m\u001b[0;34m\u001b[0m\u001b[0;34m\u001b[0m\u001b[0m\n",
      "\u001b[0;32m~/miniconda3/envs/bigdata/lib/python3.6/site-packages/neo4j/bolt/connection.py\u001b[0m in \u001b[0;36mfetch\u001b[0;34m(self)\u001b[0m\n\u001b[1;32m    361\u001b[0m \u001b[0;34m\u001b[0m\u001b[0m\n\u001b[1;32m    362\u001b[0m         \u001b[0;32mtry\u001b[0m\u001b[0;34m:\u001b[0m\u001b[0;34m\u001b[0m\u001b[0;34m\u001b[0m\u001b[0m\n\u001b[0;32m--> 363\u001b[0;31m             \u001b[0mmessage_data\u001b[0m \u001b[0;34m=\u001b[0m \u001b[0mself\u001b[0m\u001b[0;34m.\u001b[0m\u001b[0mbuffering_socket\u001b[0m\u001b[0;34m.\u001b[0m\u001b[0mread_message\u001b[0m\u001b[0;34m(\u001b[0m\u001b[0;34m)\u001b[0m\u001b[0;34m\u001b[0m\u001b[0;34m\u001b[0m\u001b[0m\n\u001b[0m\u001b[1;32m    364\u001b[0m         \u001b[0;32mexcept\u001b[0m \u001b[0mProtocolError\u001b[0m\u001b[0;34m:\u001b[0m\u001b[0;34m\u001b[0m\u001b[0;34m\u001b[0m\u001b[0m\n\u001b[1;32m    365\u001b[0m             \u001b[0mself\u001b[0m\u001b[0;34m.\u001b[0m\u001b[0mdefunct\u001b[0m \u001b[0;34m=\u001b[0m \u001b[0;32mTrue\u001b[0m\u001b[0;34m\u001b[0m\u001b[0;34m\u001b[0m\u001b[0m\n",
      "\u001b[0;32m~/miniconda3/envs/bigdata/lib/python3.6/site-packages/neo4j/bolt/connection.py\u001b[0m in \u001b[0;36mread_message\u001b[0;34m(self)\u001b[0m\n\u001b[1;32m    120\u001b[0m         \u001b[0;32mwhile\u001b[0m \u001b[0msize\u001b[0m \u001b[0;34m!=\u001b[0m \u001b[0;36m0\u001b[0m\u001b[0;34m:\u001b[0m\u001b[0;34m\u001b[0m\u001b[0;34m\u001b[0m\u001b[0m\n\u001b[1;32m    121\u001b[0m             \u001b[0;32mwhile\u001b[0m \u001b[0mlen\u001b[0m\u001b[0;34m(\u001b[0m\u001b[0mself\u001b[0m\u001b[0;34m.\u001b[0m\u001b[0mbuffer\u001b[0m\u001b[0;34m)\u001b[0m \u001b[0;34m-\u001b[0m \u001b[0mp\u001b[0m \u001b[0;34m<\u001b[0m \u001b[0;36m2\u001b[0m\u001b[0;34m:\u001b[0m\u001b[0;34m\u001b[0m\u001b[0;34m\u001b[0m\u001b[0m\n\u001b[0;32m--> 122\u001b[0;31m                 \u001b[0mself\u001b[0m\u001b[0;34m.\u001b[0m\u001b[0mfill\u001b[0m\u001b[0;34m(\u001b[0m\u001b[0;34m)\u001b[0m\u001b[0;34m\u001b[0m\u001b[0;34m\u001b[0m\u001b[0m\n\u001b[0m\u001b[1;32m    123\u001b[0m             \u001b[0msize\u001b[0m \u001b[0;34m=\u001b[0m \u001b[0;36m0x100\u001b[0m \u001b[0;34m*\u001b[0m \u001b[0mself\u001b[0m\u001b[0;34m.\u001b[0m\u001b[0mbuffer\u001b[0m\u001b[0;34m[\u001b[0m\u001b[0mp\u001b[0m\u001b[0;34m]\u001b[0m \u001b[0;34m+\u001b[0m \u001b[0mself\u001b[0m\u001b[0;34m.\u001b[0m\u001b[0mbuffer\u001b[0m\u001b[0;34m[\u001b[0m\u001b[0mp\u001b[0m \u001b[0;34m+\u001b[0m \u001b[0;36m1\u001b[0m\u001b[0;34m]\u001b[0m\u001b[0;34m\u001b[0m\u001b[0;34m\u001b[0m\u001b[0m\n\u001b[1;32m    124\u001b[0m             \u001b[0mp\u001b[0m \u001b[0;34m+=\u001b[0m \u001b[0;36m2\u001b[0m\u001b[0;34m\u001b[0m\u001b[0;34m\u001b[0m\u001b[0m\n",
      "\u001b[0;32m~/miniconda3/envs/bigdata/lib/python3.6/site-packages/neo4j/bolt/connection.py\u001b[0m in \u001b[0;36mfill\u001b[0;34m(self)\u001b[0m\n\u001b[1;32m    102\u001b[0m     \u001b[0;32mdef\u001b[0m \u001b[0mfill\u001b[0m\u001b[0;34m(\u001b[0m\u001b[0mself\u001b[0m\u001b[0;34m)\u001b[0m\u001b[0;34m:\u001b[0m\u001b[0;34m\u001b[0m\u001b[0;34m\u001b[0m\u001b[0m\n\u001b[1;32m    103\u001b[0m         \u001b[0mready_to_read\u001b[0m\u001b[0;34m,\u001b[0m \u001b[0m_\u001b[0m\u001b[0;34m,\u001b[0m \u001b[0m_\u001b[0m \u001b[0;34m=\u001b[0m \u001b[0mselect\u001b[0m\u001b[0;34m(\u001b[0m\u001b[0;34m(\u001b[0m\u001b[0mself\u001b[0m\u001b[0;34m.\u001b[0m\u001b[0msocket\u001b[0m\u001b[0;34m,\u001b[0m\u001b[0;34m)\u001b[0m\u001b[0;34m,\u001b[0m \u001b[0;34m(\u001b[0m\u001b[0;34m)\u001b[0m\u001b[0;34m,\u001b[0m \u001b[0;34m(\u001b[0m\u001b[0;34m)\u001b[0m\u001b[0;34m,\u001b[0m \u001b[0;36m0\u001b[0m\u001b[0;34m)\u001b[0m\u001b[0;34m\u001b[0m\u001b[0;34m\u001b[0m\u001b[0m\n\u001b[0;32m--> 104\u001b[0;31m         \u001b[0mreceived\u001b[0m \u001b[0;34m=\u001b[0m \u001b[0mself\u001b[0m\u001b[0;34m.\u001b[0m\u001b[0msocket\u001b[0m\u001b[0;34m.\u001b[0m\u001b[0mrecv\u001b[0m\u001b[0;34m(\u001b[0m\u001b[0;36m65539\u001b[0m\u001b[0;34m)\u001b[0m\u001b[0;34m\u001b[0m\u001b[0;34m\u001b[0m\u001b[0m\n\u001b[0m\u001b[1;32m    105\u001b[0m         \u001b[0;32mif\u001b[0m \u001b[0mreceived\u001b[0m\u001b[0;34m:\u001b[0m\u001b[0;34m\u001b[0m\u001b[0;34m\u001b[0m\u001b[0m\n\u001b[1;32m    106\u001b[0m             \u001b[0mlog_debug\u001b[0m\u001b[0;34m(\u001b[0m\u001b[0;34m\"S: b%r\"\u001b[0m\u001b[0;34m,\u001b[0m \u001b[0mreceived\u001b[0m\u001b[0;34m)\u001b[0m\u001b[0;34m\u001b[0m\u001b[0;34m\u001b[0m\u001b[0m\n",
      "\u001b[0;31mKeyboardInterrupt\u001b[0m: "
     ]
    }
   ],
   "source": [
    "#define the index - only run this when you create the graph\n",
    "q = '''\n",
    "CREATE CONSTRAINT ON (u:Account) ASSERT u.Name IS UNIQUE;\n",
    "'''\n",
    "\n",
    "graph.run(q)"
   ]
  },
  {
   "cell_type": "markdown",
   "metadata": {},
   "source": [
    "## Create Graph"
   ]
  },
  {
   "cell_type": "code",
   "execution_count": 203,
   "metadata": {
    "ExecuteTime": {
     "end_time": "2019-03-11T21:51:57.427153Z",
     "start_time": "2019-03-11T21:51:57.422918Z"
    }
   },
   "outputs": [],
   "source": [
    "greece = [\n",
    "\"Axeloukos\",\n",
    "\"BazeGR\",\n",
    "\"ControllerByte\",\n",
    "\"DD_Warrior_Lady\",\n",
    "\"Fonikibekatsa\",\n",
    "\"HackyPixelz\",\n",
    "\"Oldschool\",\n",
    "\"Piperakos\",\n",
    "\"SonOfZeus_TV\",\n",
    "\"gramers\"]"
   ]
  },
  {
   "cell_type": "code",
   "execution_count": 205,
   "metadata": {
    "ExecuteTime": {
     "end_time": "2019-03-11T21:52:21.737198Z",
     "start_time": "2019-03-11T21:51:57.829314Z"
    },
    "scrolled": true
   },
   "outputs": [
    {
     "name": "stdout",
     "output_type": "stream",
     "text": [
      "\n",
      "LOAD CSV WITH HEADERS FROM \"file:/Axeloukos.csv\" AS row\n",
      "MERGE (user:Account {Name:row.from_name})\n",
      "MERGE (streamer:Account {Name:row.to_name})\n",
      "ON MATCH SET streamer:Streamer\n",
      "CREATE (user)-[:Follows {data:datetime(row.followed_at)}]->(streamer);\n",
      "\n",
      "\n",
      "LOAD CSV WITH HEADERS FROM \"file:/BazeGR.csv\" AS row\n",
      "MERGE (user:Account {Name:row.from_name})\n",
      "MERGE (streamer:Account {Name:row.to_name})\n",
      "ON MATCH SET streamer:Streamer\n",
      "CREATE (user)-[:Follows {data:datetime(row.followed_at)}]->(streamer);\n",
      "\n",
      "\n",
      "LOAD CSV WITH HEADERS FROM \"file:/ControllerByte.csv\" AS row\n",
      "MERGE (user:Account {Name:row.from_name})\n",
      "MERGE (streamer:Account {Name:row.to_name})\n",
      "ON MATCH SET streamer:Streamer\n",
      "CREATE (user)-[:Follows {data:datetime(row.followed_at)}]->(streamer);\n",
      "\n",
      "\n",
      "LOAD CSV WITH HEADERS FROM \"file:/DD_Warrior_Lady.csv\" AS row\n",
      "MERGE (user:Account {Name:row.from_name})\n",
      "MERGE (streamer:Account {Name:row.to_name})\n",
      "ON MATCH SET streamer:Streamer\n",
      "CREATE (user)-[:Follows {data:datetime(row.followed_at)}]->(streamer);\n",
      "\n",
      "\n",
      "LOAD CSV WITH HEADERS FROM \"file:/Fonikibekatsa.csv\" AS row\n",
      "MERGE (user:Account {Name:row.from_name})\n",
      "MERGE (streamer:Account {Name:row.to_name})\n",
      "ON MATCH SET streamer:Streamer\n",
      "CREATE (user)-[:Follows {data:datetime(row.followed_at)}]->(streamer);\n",
      "\n",
      "\n",
      "LOAD CSV WITH HEADERS FROM \"file:/HackyPixelz.csv\" AS row\n",
      "MERGE (user:Account {Name:row.from_name})\n",
      "MERGE (streamer:Account {Name:row.to_name})\n",
      "ON MATCH SET streamer:Streamer\n",
      "CREATE (user)-[:Follows {data:datetime(row.followed_at)}]->(streamer);\n",
      "\n",
      "\n",
      "LOAD CSV WITH HEADERS FROM \"file:/Oldschool.csv\" AS row\n",
      "MERGE (user:Account {Name:row.from_name})\n",
      "MERGE (streamer:Account {Name:row.to_name})\n",
      "ON MATCH SET streamer:Streamer\n",
      "CREATE (user)-[:Follows {data:datetime(row.followed_at)}]->(streamer);\n",
      "\n",
      "\n",
      "LOAD CSV WITH HEADERS FROM \"file:/Piperakos.csv\" AS row\n",
      "MERGE (user:Account {Name:row.from_name})\n",
      "MERGE (streamer:Account {Name:row.to_name})\n",
      "ON MATCH SET streamer:Streamer\n",
      "CREATE (user)-[:Follows {data:datetime(row.followed_at)}]->(streamer);\n",
      "\n",
      "\n",
      "LOAD CSV WITH HEADERS FROM \"file:/SonOfZeus_TV.csv\" AS row\n",
      "MERGE (user:Account {Name:row.from_name})\n",
      "MERGE (streamer:Account {Name:row.to_name})\n",
      "ON MATCH SET streamer:Streamer\n",
      "CREATE (user)-[:Follows {data:datetime(row.followed_at)}]->(streamer);\n",
      "\n",
      "\n",
      "LOAD CSV WITH HEADERS FROM \"file:/gramers.csv\" AS row\n",
      "MERGE (user:Account {Name:row.from_name})\n",
      "MERGE (streamer:Account {Name:row.to_name})\n",
      "ON MATCH SET streamer:Streamer\n",
      "CREATE (user)-[:Follows {data:datetime(row.followed_at)}]->(streamer);\n",
      "\n"
     ]
    }
   ],
   "source": [
    "q = '''\n",
    "LOAD CSV WITH HEADERS FROM \"file:/{streamer_name}.csv\" AS row\n",
    "MERGE (user:Account {{Name:row.from_name}})\n",
    "MERGE (streamer:Account {{Name:row.to_name}})\n",
    "ON MATCH SET streamer:Streamer\n",
    "CREATE (user)-[:Follows {{data:datetime(row.followed_at)}}]->(streamer);\n",
    "'''\n",
    "\n",
    "\n",
    "#s = '''\n",
    "#    MATCH (s:Account{{Name:'{name}'}})\n",
    "#    SET s:Streamer\n",
    "#    '''\n",
    "\n",
    "for streamer in greece: #streamers[0:2]:\n",
    "    qq = q.format(streamer_name=streamer)\n",
    "    print(qq)\n",
    "    graph.run(qq)\n",
    "    #ss = s.format(name=streamer)\n",
    "    #graph.run(ss)"
   ]
  },
  {
   "cell_type": "markdown",
   "metadata": {},
   "source": [
    "## Count Nodes"
   ]
  },
  {
   "cell_type": "code",
   "execution_count": 6,
   "metadata": {
    "ExecuteTime": {
     "end_time": "2019-03-11T21:52:42.362604Z",
     "start_time": "2019-03-11T21:52:42.345153Z"
    }
   },
   "outputs": [],
   "source": [
    "x = graph.run('MATCH (n) RETURN count(n)')"
   ]
  },
  {
   "cell_type": "code",
   "execution_count": 7,
   "metadata": {
    "ExecuteTime": {
     "end_time": "2019-03-11T21:52:42.679462Z",
     "start_time": "2019-03-11T21:52:42.667867Z"
    }
   },
   "outputs": [
    {
     "data": {
      "text/plain": [
       "[{'count(n)': 207485}]"
      ]
     },
     "execution_count": 7,
     "metadata": {},
     "output_type": "execute_result"
    }
   ],
   "source": [
    "x.data()"
   ]
  },
  {
   "cell_type": "markdown",
   "metadata": {},
   "source": [
    "## Other Queries "
   ]
  },
  {
   "cell_type": "code",
   "execution_count": 13,
   "metadata": {
    "scrolled": true
   },
   "outputs": [
    {
     "name": "stdout",
     "output_type": "stream",
     "text": [
      "from_id,from_name,to_id,to_name,followed_at\r",
      "\r\n",
      "422825171,themisfyd,21074141,Axeloukos,2019-03-11T08:39:30Z\r",
      "\r\n",
      "402896150,georgevasileiadhs,21074141,Axeloukos,2019-03-11T07:27:28Z\r",
      "\r\n",
      "422361538,spyrosssssssss,21074141,Axeloukos,2019-03-11T05:51:54Z\r",
      "\r\n",
      "422609219,rikardo_rm,21074141,Axeloukos,2019-03-10T13:49:02Z\r",
      "\r\n",
      "416548191,giannis__11,21074141,Axeloukos,2019-03-10T12:22:00Z\r",
      "\r\n",
      "248704707,michas_123h58,21074141,Axeloukos,2019-03-10T11:52:06Z\r",
      "\r\n",
      "422583257,anasta1235,21074141,Axeloukos,2019-03-10T11:29:15Z\r",
      "\r\n",
      "175915371,ttvmikelaneus,21074141,Axeloukos,2019-03-10T08:19:24Z\r",
      "\r\n",
      "259644302,georgekoutouzos,21074141,Axeloukos,2019-03-10T06:39:33Z\r",
      "\r\n"
     ]
    }
   ],
   "source": [
    "! head /Users/jeroen/Downloads/all_followers_top10_greece/Axeloukos.csv"
   ]
  },
  {
   "cell_type": "code",
   "execution_count": null,
   "metadata": {},
   "outputs": [],
   "source": [
    "# create overlap counts\n",
    "MATCH (s1:Streamer)<-[f1:Follows]-(f:Account)-[f2:Follows]->(s2:Streamer)\n",
    "WHERE NOT f:Streamer\n",
    "WITH s1,s2,count(f) as followers\n",
    "CREATE (s1)-[a:agg{f_count:followers}]->(s2)"
   ]
  },
  {
   "cell_type": "code",
   "execution_count": null,
   "metadata": {},
   "outputs": [],
   "source": [
    "# get views between two streamers\n",
    "'''\n",
    "MATCH (s1:Streamer{Name:'SonOfZeus_TV'})<-[:Follows]-(a:Account)-[:Follows]->(s2:Streamer{Name:'Fonikibekatsa'})\n",
    "WHERE NOT a:Streamer\n",
    "RETURN s1,s2,a\n",
    "LIMIT 50;\n",
    "'''"
   ]
  },
  {
   "cell_type": "code",
   "execution_count": null,
   "metadata": {},
   "outputs": [],
   "source": [
    "# export graph\n",
    "#CALL apoc.export.graphml.all('/tmp/complete-graph.graphml', {useTypes:true, storeNodeIds:false})\n",
    "#CALL apoc.export.graphml.query('query',file,config)"
   ]
  },
  {
   "cell_type": "markdown",
   "metadata": {},
   "source": [
    "## Testing Networkx"
   ]
  },
  {
   "cell_type": "code",
   "execution_count": 21,
   "metadata": {},
   "outputs": [],
   "source": [
    "x = '''\n",
    "MATCH (s:Streamer)-[a:agg]->(s2:Streamer)\n",
    "RETURN s,s2,a\n",
    "'''\n",
    "\n",
    "xx = graph.run(x).data()"
   ]
  },
  {
   "cell_type": "code",
   "execution_count": 22,
   "metadata": {},
   "outputs": [
    {
     "data": {
      "text/plain": [
       "{'s': (:Account:Streamer {Name: 'Oldschool'}),\n",
       " 's2': (:Account:Streamer {Name: 'Piperakos'}),\n",
       " 'a': ()-[:agg {counts: 4868}]->()}"
      ]
     },
     "execution_count": 22,
     "metadata": {},
     "output_type": "execute_result"
    }
   ],
   "source": [
    "xx[1]"
   ]
  },
  {
   "cell_type": "code",
   "execution_count": 23,
   "metadata": {},
   "outputs": [],
   "source": [
    "r = "
   ]
  },
  {
   "cell_type": "code",
   "execution_count": 127,
   "metadata": {},
   "outputs": [],
   "source": [
    "import networkx as nx\n",
    "import nxviz as nv\n",
    "from matplotlib import pyplot as plt\n",
    "G=nx.Graph()"
   ]
  },
  {
   "cell_type": "code",
   "execution_count": 185,
   "metadata": {},
   "outputs": [],
   "source": [
    "for xxx in xx:\n",
    "    name1 = list(xxx.get('s').items())[0][1]\n",
    "    name2 = list(xxx.get('s2').items())[0][1]\n",
    "    edge_count = list(xxx.get('a').items())[0][1]    \n",
    "    G.add_node(name1)\n",
    "    G.add_node(name2)\n",
    "    G.add_edge(name1,name2,followers=edge_count)"
   ]
  },
  {
   "cell_type": "code",
   "execution_count": 186,
   "metadata": {
    "scrolled": false
   },
   "outputs": [
    {
     "name": "stdout",
     "output_type": "stream",
     "text": [
      "0 1\n",
      "0 2\n",
      "0 3\n",
      "0 4\n",
      "0 5\n",
      "0 6\n",
      "0 7\n",
      "0 8\n",
      "1 0\n",
      "1 2\n",
      "1 3\n",
      "1 4\n",
      "1 5\n",
      "1 6\n",
      "1 7\n",
      "1 8\n",
      "2 0\n",
      "2 1\n",
      "2 3\n",
      "2 4\n",
      "2 5\n",
      "2 6\n",
      "2 7\n",
      "2 8\n",
      "3 0\n",
      "3 1\n",
      "3 2\n",
      "3 4\n",
      "3 5\n",
      "3 6\n",
      "3 7\n",
      "3 8\n",
      "4 0\n",
      "4 1\n",
      "4 2\n",
      "4 3\n",
      "4 5\n",
      "4 6\n",
      "4 7\n",
      "4 8\n",
      "5 0\n",
      "5 1\n",
      "5 2\n",
      "5 3\n",
      "5 4\n",
      "5 6\n",
      "5 7\n",
      "5 8\n",
      "6 0\n",
      "6 1\n",
      "6 2\n",
      "6 3\n",
      "6 4\n",
      "6 5\n",
      "6 7\n",
      "6 8\n",
      "7 0\n",
      "7 1\n",
      "7 2\n",
      "7 3\n",
      "7 4\n",
      "7 5\n",
      "7 6\n",
      "7 8\n",
      "8 0\n",
      "8 1\n",
      "8 2\n",
      "8 3\n",
      "8 4\n",
      "8 5\n",
      "8 6\n",
      "8 7\n"
     ]
    }
   ],
   "source": [
    "streamers = ['Oldschool',\n",
    "  'HackyPixelz',\n",
    "  'DD_Warrior_Lady',\n",
    "  'Piperakos',\n",
    "  'SonOfZeus_TV',\n",
    "  'Fonikibekatsa',\n",
    "  'BazeGR',\n",
    "  'Axeloukos',\n",
    "  'ControllerByte']\n",
    "\n",
    "matrix = nx.attr_matrix(G, edge_attr='followers', normalized=True)\n",
    "\n",
    "for i in range(0,matrix[0].shape[0]):\n",
    "    for ii in range(0,matrix[0].shape[0]):\n",
    "        if i != ii:\n",
    "            n1 = streamers[i]\n",
    "            n2 = streamers[ii]\n",
    "            G[n1][n2][\"followers\"] = matrix[0][i,ii]*10"
   ]
  },
  {
   "cell_type": "code",
   "execution_count": 176,
   "metadata": {},
   "outputs": [
    {
     "data": {
      "text/plain": [
       "0.13493150684931507"
      ]
     },
     "execution_count": 176,
     "metadata": {},
     "output_type": "execute_result"
    }
   ],
   "source": [
    "matrix[0][0,1]"
   ]
  },
  {
   "cell_type": "code",
   "execution_count": 194,
   "metadata": {},
   "outputs": [
    {
     "data": {
      "text/plain": [
       "EdgeDataView([('SonOfZeus_TV', 'Piperakos', {'followers': 1.4876985800646703}), ('SonOfZeus_TV', 'DD_Warrior_Lady', {'followers': 2.143399409531843}), ('SonOfZeus_TV', 'Fonikibekatsa', {'followers': 1.8768586104352527}), ('SonOfZeus_TV', 'BazeGR', {'followers': 0.3284508375627843}), ('SonOfZeus_TV', 'Oldschool', {'followers': 1.1654716715872346}), ('SonOfZeus_TV', 'ControllerByte', {'followers': 1.536814030550392}), ('SonOfZeus_TV', 'HackyPixelz', {'followers': 0.4240123717137635}), ('SonOfZeus_TV', 'Axeloukos', {'followers': 0.6763077153333832}), ('Piperakos', 'Oldschool', {'followers': 1.4535248275656145}), ('Piperakos', 'HackyPixelz', {'followers': 0.44310411752411094}), ('Piperakos', 'Axeloukos', {'followers': 0.5595674623961686}), ('Piperakos', 'Fonikibekatsa', {'followers': 1.3994773362169957}), ('Piperakos', 'ControllerByte', {'followers': 0.8789299280691829}), ('Piperakos', 'BazeGR', {'followers': 0.3465958397980382}), ('Piperakos', 'DD_Warrior_Lady', {'followers': 2.7326744498521993}), ('Oldschool', 'DD_Warrior_Lady', {'followers': 1.745790285436606}), ('Oldschool', 'Fonikibekatsa', {'followers': 1.2935928629359286}), ('Oldschool', 'ControllerByte', {'followers': 0.9973329022872384}), ('Oldschool', 'BazeGR', {'followers': 1.55179214768454}), ('Oldschool', 'HackyPixelz', {'followers': 1.5349403457511566}), ('Oldschool', 'Axeloukos', {'followers': 1.6891790765546657}), ('HackyPixelz', 'DD_Warrior_Lady', {'followers': 0.7024994189854429}), ('HackyPixelz', 'Fonikibekatsa', {'followers': 0.478958277011805}), ('HackyPixelz', 'ControllerByte', {'followers': 0.614240685363291}), ('HackyPixelz', 'BazeGR', {'followers': 3.3071238856601886}), ('HackyPixelz', 'Axeloukos', {'followers': 2.287472872857891}), ('Axeloukos', 'DD_Warrior_Lady', {'followers': 0.8641397889695428}), ('Axeloukos', 'Fonikibekatsa', {'followers': 1.0124971937439198}), ('Axeloukos', 'ControllerByte', {'followers': 1.7606885961367493}), ('Axeloukos', 'BazeGR', {'followers': 2.0957120407094214}), ('Fonikibekatsa', 'DD_Warrior_Lady', {'followers': 1.9696764891412095}), ('Fonikibekatsa', 'BazeGR', {'followers': 0.4638809267099692}), ('Fonikibekatsa', 'ControllerByte', {'followers': 2.4480724157439586}), ('ControllerByte', 'DD_Warrior_Lady', {'followers': 1.2030227107411298}), ('ControllerByte', 'BazeGR', {'followers': 0.5608987311080579}), ('BazeGR', 'DD_Warrior_Lady', {'followers': 0.6913508822678622})])"
      ]
     },
     "execution_count": 194,
     "metadata": {},
     "output_type": "execute_result"
    }
   ],
   "source": [
    "G.edges(data=True)"
   ]
  },
  {
   "cell_type": "code",
   "execution_count": 201,
   "metadata": {},
   "outputs": [
    {
     "name": "stderr",
     "output_type": "stream",
     "text": [
      "/Users/jeroen/anaconda3/envs/bigdata/lib/python3.6/site-packages/networkx/drawing/nx_pylab.py:611: MatplotlibDeprecationWarning: isinstance(..., numbers.Number)\n",
      "  if cb.is_numlike(alpha):\n"
     ]
    },
    {
     "data": {
      "image/png": "[encoded data removed]",
      "text/plain": [
       "<Figure size 432x288 with 1 Axes>"
      ]
     },
     "metadata": {},
     "output_type": "display_data"
    }
   ],
   "source": [
    "%matplotlib inline\n",
    "\n",
    "pos = nx.circular_layout(G)\n",
    "edges = G.edges()\n",
    "weights = [G[u][v]['followers'] for u,v in edges]\n",
    "nx.draw(G, pos, edges=edges, width=weights)"
   ]
  },
  {
   "cell_type": "code",
   "execution_count": 112,
   "metadata": {},
   "outputs": [
    {
     "data": {
      "text/plain": [
       "'followers'"
      ]
     },
     "execution_count": 112,
     "metadata": {},
     "output_type": "execute_result"
    }
   ],
   "source": [
    "c.edge_width"
   ]
  },
  {
   "cell_type": "code",
   "execution_count": 6,
   "metadata": {},
   "outputs": [],
   "source": [
    "xx = list(r.items())[0][1]"
   ]
  },
  {
   "cell_type": "code",
   "execution_count": 15,
   "metadata": {},
   "outputs": [],
   "source": [
    "G.add_node(\"a\")"
   ]
  },
  {
   "cell_type": "code",
   "execution_count": 17,
   "metadata": {},
   "outputs": [
    {
     "data": {
      "text/plain": [
       "NodeView(('a',))"
      ]
     },
     "execution_count": 17,
     "metadata": {},
     "output_type": "execute_result"
    }
   ],
   "source": [
    "G.nodes()"
   ]
  },
  {
   "cell_type": "code",
   "execution_count": null,
   "metadata": {},
   "outputs": [],
   "source": []
  }
 ],
 "metadata": {
  "kernelspec": {
   "display_name": "bigdata",
   "language": "python",
   "name": "bigdata"
  },
  "language_info": {
   "codemirror_mode": {
    "name": "ipython",
    "version": 3
   },
   "file_extension": ".py",
   "mimetype": "text/x-python",
   "name": "python",
   "nbconvert_exporter": "python",
   "pygments_lexer": "ipython3",
   "version": "3.6.8"
  },
  "toc": {
   "base_numbering": 1,
   "nav_menu": {},
   "number_sections": true,
   "sideBar": true,
   "skip_h1_title": false,
   "title_cell": "Table of Contents",
   "title_sidebar": "Contents",
   "toc_cell": false,
   "toc_position": {},
   "toc_section_display": true,
   "toc_window_display": false
  }
 },
 "nbformat": 4,
 "nbformat_minor": 2
}
